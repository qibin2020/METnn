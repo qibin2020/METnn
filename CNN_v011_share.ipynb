{
 "cells": [
  {
   "cell_type": "markdown",
   "id": "8cac0dcf-1127-49a3-b756-df287b6f0a5b",
   "metadata": {},
   "source": [
    "# Pre note:\n",
    "\n",
    "Install pytorch, torchsummary\n",
    "\n",
    "Install matplotlib, pandas, tqdm"
   ]
  },
  {
   "cell_type": "markdown",
   "id": "ce5e5ab0-d5f3-469b-9e60-744848205a78",
   "metadata": {},
   "source": [
    "# Load data"
   ]
  },
  {
   "cell_type": "code",
   "execution_count": 6,
   "id": "0577e605-1bf4-417b-bd9b-482074301888",
   "metadata": {},
   "outputs": [
    {
     "name": "stdout",
     "output_type": "stream",
     "text": [
      "(70000, 98, 64)\n"
     ]
    }
   ],
   "source": [
    "import pickle\n",
    "from matplotlib import pyplot as plt\n",
    "from matplotlib.colors import LogNorm\n",
    "import numpy as np\n",
    "import pandas as pd\n",
    "from tqdm import tqdm\n",
    "file_dir = 'YOU FOLDER PATH'\n",
    "# ensure the xxx-array.pkl is there\n",
    "process=\"vbf\"\n",
    "\n",
    "with open(file_dir+f'{process}-array.pkl', 'rb') as f:\n",
    "    _towers = pickle.load(f)\n",
    "towers=_towers[:70000,...]\n",
    "val_towers=_towers[70000:,...]\n",
    "print(towers.shape)\n",
    "\n",
    "with open(file_dir+f'{process}-met-array.pkl', 'rb') as f:\n",
    "    _met_all = pickle.load(f)\n",
    "tru_met_met=_met_all[:70000,...,2]\n",
    "val_tru_met_met=_met_all[70000:,...,2]"
   ]
  },
  {
   "cell_type": "code",
   "execution_count": 7,
   "id": "d075169e-dba6-4cc2-8136-2dfc0f7cd605",
   "metadata": {},
   "outputs": [
    {
     "name": "stdout",
     "output_type": "stream",
     "text": [
      "Running on cuda:0\n"
     ]
    }
   ],
   "source": [
    "import torch\n",
    "from torchsummary import summary\n",
    "dev=torch.device('cuda:0' if torch.cuda.is_available() else 'cpu')\n",
    "print(\"Running on\",dev)\n",
    "import torch.nn as nn\n",
    "import torch.nn.functional as F\n",
    "from typing import Any, Callable, List, Optional, Type, Union\n",
    "from torch import Tensor\n",
    "from torch.utils.data import Dataset, DataLoader, TensorDataset\n",
    "import torch.optim as optim\n",
    "from functools import partial\n",
    "import math"
   ]
  },
  {
   "cell_type": "code",
   "execution_count": 8,
   "id": "7db558df-e721-40bb-a161-ebb9e1e0e3d4",
   "metadata": {},
   "outputs": [],
   "source": [
    "# Create the bins and weights, this is related to the reweighting and data augmentation\n",
    "met_bins, edges = np.histogram(tru_met_met, bins=30, range=(10, 400), density=True)\n",
    "weights = [max(met_bins) / float(x) for x in met_bins]\n",
    "\n",
    "def get_weight(m, weights, edges):\n",
    "    if m > edges[-1]:\n",
    "        return weights[-1]\n",
    "    else:\n",
    "        idx = np.digitize([m], edges)[0][0]\n",
    "        return weights[idx-1]\n",
    "\n",
    "def add_phi_shift_shuffle(towers, mets):\n",
    "    while True:\n",
    "        idx = np.random.randint(0, len(towers))\n",
    "        m = mets[idx]\n",
    "        if m>10:\n",
    "            t = towers[idx]\n",
    "            shift = np.random.randint(1, 64)\n",
    "            t_prime = np.roll(t, shift, axis=2)\n",
    "            w = get_weight(m, weights, edges) \n",
    "            return t_prime, m, w\n",
    "\n",
    "# # Reshape the towers and mets for CNN input\n",
    "train_images =   towers[:,None,:,:]        \n",
    "train_truth =  tru_met_met[:,None]        \n",
    "\n",
    "test_images =   val_towers[:,None,:,:]        \n",
    "test_truth =  val_tru_met_met[:,None]  \n",
    "\n",
    "# Custom Dataset class\n",
    "class METDataset(Dataset):\n",
    "    def __init__(self, images, truth, shuffle=True):\n",
    "        self.images = images\n",
    "        self.truth = truth\n",
    "        self.shuffle=shuffle\n",
    "\n",
    "    def __len__(self):\n",
    "        return len(self.images)\n",
    "\n",
    "    def __getitem__(self, idx):\n",
    "        if self.shuffle:\n",
    "            t, m, w = add_phi_shift_shuffle(self.images, self.truth)\n",
    "        else:\n",
    "            t, m, w = self.images[idx], self.truth[idx], 1\n",
    "        t = torch.tensor(t, dtype=torch.float32)\n",
    "        m = torch.tensor(m, dtype=torch.float32)\n",
    "        w = torch.tensor(w, dtype=torch.float32)\n",
    "        return t, m, w"
   ]
  },
  {
   "cell_type": "code",
   "execution_count": 9,
   "id": "f5b4fdfd-7d47-404e-ba74-39a83499bad1",
   "metadata": {},
   "outputs": [],
   "source": [
    "# Creat the dataloader\n",
    "train_dataset = METDataset(train_images, train_truth)\n",
    "train_loader = DataLoader(train_dataset, batch_size=100, shuffle=False)\n",
    "# the validation dataset: used to monitor the model\n",
    "msk=(test_truth>0)\n",
    "msk=msk[:,0]\n",
    "val_dataset = METDataset(test_images[msk,:,:,:], test_truth[msk,:], shuffle=False)\n",
    "val_loader = DataLoader(val_dataset, batch_size=32, shuffle=False)"
   ]
  },
  {
   "cell_type": "markdown",
   "id": "5b522885-cca7-43d0-9067-cfbe5e72123d",
   "metadata": {},
   "source": [
    "# Prepare Model"
   ]
  },
  {
   "cell_type": "code",
   "execution_count": 16,
   "id": "9b0fff1e-8dee-4111-94ed-7a25cc24ea0f",
   "metadata": {},
   "outputs": [],
   "source": [
    "class CNN(nn.Module):\n",
    "    def __init__(self):\n",
    "        super(CNN, self).__init__()\n",
    "        self.conv1 = nn.Conv2d(in_channels=1, out_channels=15, kernel_size=9) # 98x64x1 input\n",
    "        self.pool = nn.MaxPool2d(kernel_size=2)\n",
    "        self.conv2 = nn.Conv2d(in_channels=15, out_channels=20, kernel_size=7)\n",
    "        self.conv3 = nn.Conv2d(in_channels=20, out_channels=25, kernel_size=5)\n",
    "        self.conv4 = nn.Conv2d(in_channels=25, out_channels=1, kernel_size=1)\n",
    "        BINS=np.linspace(-np.pi,np.pi,19)\n",
    "        BINS=(BINS[:-1]+BINS[1:])/2\n",
    "        grid_cos=np.cos(BINS)\n",
    "        grid_sin=np.sin(BINS)\n",
    "        self.cosPHI=nn.Parameter(torch.Tensor(grid_cos),requires_grad=False)\n",
    "        self.sinPHI=nn.Parameter(torch.Tensor(grid_sin),requires_grad=False)\n",
    "        \n",
    "        for m in [self.conv1,self.conv2,self.conv3,self.conv4]:\n",
    "            torch.nn.init.xavier_uniform_(m.weight)\n",
    "            torch.nn.init.zeros_(m.bias)\n",
    "\n",
    "    def forward(self, x):\n",
    "        x = F.relu(self.conv1(x))  # Conv2D -> ReLU .double()\n",
    "        x = self.pool(x)           # MaxPooling\n",
    "        x = F.relu(self.conv2(x))  # Conv2D -> ReLU\n",
    "        x = F.relu(self.conv3(x))  # Conv2D -> ReLU\n",
    "        x = F.relu(self.conv4(x))  # Conv2D -> ReLU\n",
    "        x1=(x*self.cosPHI).sum([-1,-2])\n",
    "        x2=(x*self.sinPHI).sum([-1,-2])\n",
    "        x = torch.sqrt(x1**2 + x2**2)\n",
    "        return x"
   ]
  },
  {
   "cell_type": "code",
   "execution_count": 17,
   "id": "a2e2f9cd-ba92-495c-965a-dff8eea84d07",
   "metadata": {},
   "outputs": [],
   "source": [
    "def MAPE(y_pred,y_true):\n",
    "    epsilon = torch.Tensor([1e-7]).to(dev)\n",
    "    diff = torch.abs((y_true - y_pred) / torch.maximum(torch.abs(y_true), epsilon))\n",
    "    return 100.0 * torch.mean(diff, axis=-1)"
   ]
  },
  {
   "cell_type": "code",
   "execution_count": 18,
   "id": "b0f4a61e-3413-435c-af76-c4e317afdfb4",
   "metadata": {},
   "outputs": [],
   "source": [
    "criterion = MAPE"
   ]
  },
  {
   "cell_type": "markdown",
   "id": "07a85332-ac56-46ff-890d-62ffd894cd5e",
   "metadata": {},
   "source": [
    "# Let's train it"
   ]
  },
  {
   "cell_type": "code",
   "execution_count": 19,
   "id": "0048e0b7-5386-4bfc-8f83-5a152d81a196",
   "metadata": {},
   "outputs": [],
   "source": [
    "# define the monitor function: to monitor the performance during training\n",
    "def plot_eval(_tru,_test,thre=20,max_e=500,display=False):\n",
    "    if len(_tru.shape)==2:\n",
    "        _tru=_tru.flatten()\n",
    "    if len(_test.shape)==2:\n",
    "        _test=_test.flatten()\n",
    "    assert _tru.shape==_test.shape\n",
    "    msk=_tru>thre if thre else np.ones_like(_tru).astype(bool)\n",
    "    tru=_tru[msk]\n",
    "    test=_test[msk]\n",
    "    fig,axs=plt.subplots(1,6,figsize=(20,4))\n",
    "    ax=axs[0]\n",
    "    ax.hist2d(_tru,_test,bins=100,range=[[0,1000],[0,1000]],norm=LogNorm())\n",
    "    ax=axs[3]\n",
    "    ax.hist2d(tru,test/tru,bins=100,range=[[thre,max_e],[0,3]],norm=LogNorm())\n",
    "    ax=axs[2]\n",
    "    _,bins,_=ax.hist(tru,bins=100,log=True,label=\"truth(above th)\")\n",
    "    ax.hist(test,bins=bins,log=True,label=\"output\",alpha=0.5)\n",
    "    ax.legend()\n",
    "    # profile\n",
    "    ax=axs[4]\n",
    "    D=pd.DataFrame([tru,test]).T\n",
    "    D[\"bin\"]=np.digitize(D[0],np.linspace(thre,max_e,50))\n",
    "    D[\"r\"]=D[1]/D[0]\n",
    "    G=D.groupby(\"bin\")[\"r\"].agg([\"mean\",\"std\"])\n",
    "    ax.errorbar(G.index * 10,G[\"mean\"],G[\"std\"])\n",
    "    ax.set_ylim(0,3)\n",
    "    ax.axhline(y=1,c=\"red\",ls=\"--\")\n",
    "    ax=axs[1]\n",
    "    _,bins,_=ax.hist(_tru[~msk],bins=100,range=[0,thre if thre else 20],log=True,label=\"truth(below th)\")\n",
    "    ax.hist(_test[~msk],bins=bins,log=True,label=\"output\",alpha=0.5)\n",
    "    ax.legend()\n",
    "    ax=axs[5]\n",
    "    _,bins,_=ax.hist(_tru[~msk],bins=100,range=[0,max_e],log=True,label=\"truth(below th)\")\n",
    "    ax.hist(_test[~msk],bins=bins,log=True,label=\"output\",alpha=0.5)\n",
    "    ax.legend()\n",
    "    del G\n",
    "    del tru\n",
    "    del test\n",
    "    if display:\n",
    "        plt.show()\n",
    "    else:\n",
    "        return fig,axs  "
   ]
  },
  {
   "cell_type": "code",
   "execution_count": 20,
   "id": "3fe3cf91-6e9d-4fd5-9b62-adf93d632d06",
   "metadata": {},
   "outputs": [
    {
     "name": "stdout",
     "output_type": "stream",
     "text": [
      "Epoch [1/10], Loss: 30.625235246930803\n",
      "Epoch [1/10], Validation Loss: 65.86620586614873\n",
      "Epoch [2/10], Loss: 25.721116060529436\n",
      "Epoch [2/10], Validation Loss: 56.67505167084716\n",
      "Epoch [3/10], Loss: 23.544343207223076\n",
      "Epoch [3/10], Validation Loss: 55.08903943043528\n",
      "Epoch [4/10], Loss: 21.322368872506278\n",
      "Epoch [4/10], Validation Loss: 54.99118548313946\n",
      "Epoch [5/10], Loss: 23.467508523123605\n",
      "Epoch [5/10], Validation Loss: 57.40195185899226\n",
      "Epoch [6/10], Loss: 20.613230699811663\n",
      "Epoch [6/10], Validation Loss: 52.07288578781746\n",
      "Epoch [7/10], Loss: 20.431603491646904\n",
      "Epoch [7/10], Validation Loss: 49.25601827462853\n",
      "Epoch [8/10], Loss: 21.567142464773994\n",
      "Epoch [8/10], Validation Loss: 50.67403545460976\n",
      "Epoch [9/10], Loss: 19.868769694737026\n",
      "Epoch [9/10], Validation Loss: 48.505438046160535\n",
      "Epoch [10/10], Loss: 21.897826113019672\n",
      "Epoch [10/10], Validation Loss: 50.9997869239433\n"
     ]
    }
   ],
   "source": [
    "model=CNN().to(dev)\n",
    "optimizer = optim.Adam(model.parameters(),lr=1e-3, eps=1e-7)\n",
    "num_epochs = 10\n",
    "for epoch in range(num_epochs):\n",
    "    model.train()\n",
    "    running_loss = 0.0\n",
    "    i_step=0\n",
    "    for towers_batch, mets_batch, weights_batch in train_loader:\n",
    "        # Move data to the correct device (GPU or CPU)\n",
    "        towers_batch = towers_batch.to(dev)\n",
    "        mets_batch = mets_batch.to(dev)\n",
    "        weights_batch = weights_batch.to(dev)\n",
    "        # Forward pass\n",
    "        outputs = model(towers_batch)  # Assuming your model outputs the predicted MET\n",
    "        loss = criterion(outputs, mets_batch)  # Compute loss for each sample in the batch\n",
    "        \n",
    "        # Apply the weights to the loss\n",
    "        weighted_loss = loss * weights_batch  # Element-wise multiplication by the weights\n",
    "        weighted_loss = weighted_loss.mean()  # Take the mean to get a single scalar value\n",
    "#         \n",
    "        # Backward pass and optimization\n",
    "        optimizer.zero_grad()  # Clear gradients\n",
    "        weighted_loss.backward()  # Backpropagate with the weighted loss\n",
    "        optimizer.step()  # Update model parameters\n",
    "        \n",
    "        running_loss += weighted_loss.item()\n",
    "        if i_step>100:\n",
    "            break\n",
    "            \n",
    "        i_step+=1\n",
    "    \n",
    "    print(f\"Epoch [{epoch+1}/{num_epochs}], Loss: {running_loss/len(train_loader)}\")\n",
    "    \n",
    "    model.eval()  # Set model to evaluation mode\n",
    "    val_loss = 0.0\n",
    "    with torch.no_grad():  # No gradients during validation\n",
    "        coll_val=[]\n",
    "        for towers_batch, mets_batch, weights_batch in val_loader:\n",
    "            towers_batch = towers_batch.to(dev)\n",
    "            mets_batch = mets_batch.to(dev)\n",
    "            weights_batch = weights_batch.to(dev)\n",
    "            outputs = model(towers_batch)\n",
    "            loss = criterion(outputs, mets_batch)  # Compute loss for each sample\n",
    "            weighted_loss = loss * weights_batch\n",
    "            weighted_loss = weighted_loss.mean()  # Mean to get a scalar loss\n",
    "            val_loss += weighted_loss.item()\n",
    "    print(f\"Epoch [{epoch+1}/{num_epochs}], Validation Loss: {val_loss/len(val_loader)}\")    "
   ]
  },
  {
   "cell_type": "code",
   "execution_count": 21,
   "id": "6655bf8d-a460-4602-8b3b-2e6a0fcadf0c",
   "metadata": {},
   "outputs": [
    {
     "data": {
      "image/png": "[encoded data removed]",
      "text/plain": [
       "<Figure size 2000x400 with 6 Axes>"
      ]
     },
     "metadata": {},
     "output_type": "display_data"
    }
   ],
   "source": [
    "# plot the results\n",
    "model.eval()  # Set model to evaluation mode\n",
    "val_loss = 0.0\n",
    "with torch.no_grad():  # No gradients during validation\n",
    "    coll_val=[]\n",
    "    for towers_batch, mets_batch, weights_batch in val_loader:\n",
    "        towers_batch = towers_batch.to(dev)\n",
    "        mets_batch = mets_batch.to(dev)\n",
    "        weights_batch = weights_batch.to(dev)\n",
    "        outputs = model(towers_batch)\n",
    "        # collect the results\n",
    "        coll_val.append(outputs.numpy(force=True))\n",
    "    coll_val=np.concatenate(coll_val,axis=0)\n",
    "    plot_eval(val_tru_met_met[msk],coll_val,display=True)"
   ]
  },
  {
   "cell_type": "code",
   "execution_count": null,
   "id": "e9592099-e00c-4709-9fca-374c3ab2934e",
   "metadata": {},
   "outputs": [],
   "source": [
    "# Homework1: how many layers in the network, how many parameter in the model, what is the input, what is the output\n",
    "# you answer:"
   ]
  },
  {
   "cell_type": "code",
   "execution_count": null,
   "id": "56a57c9b-7907-42c4-9e9e-47e37a4db917",
   "metadata": {},
   "outputs": [],
   "source": [
    "# Homework2: what is the loss function?\n",
    "# you answer:"
   ]
  },
  {
   "cell_type": "code",
   "execution_count": null,
   "id": "1f92262b-5ae5-4a6e-ac8f-7997f53e8df7",
   "metadata": {},
   "outputs": [],
   "source": [
    "# Homework3: can you draw the plot shown the histogramed MET distribution obtained by the network, and the histogramed MET distribution from truth? Which plot (in this six) showing ths?\n",
    "# you answer:"
   ]
  },
  {
   "cell_type": "code",
   "execution_count": null,
   "id": "f1a40cc0-0f3a-4280-aacf-e333a7404eed",
   "metadata": {},
   "outputs": [],
   "source": [
    "# Homework4: can you draw the plot shown MET distribution obtained by the network divided by the truth MET? Which plot (in this six) showing ths?\n",
    "# you answer:"
   ]
  }
 ],
 "metadata": {
  "kernelspec": {
   "display_name": "weaver",
   "language": "python",
   "name": "weaver-env"
  },
  "language_info": {
   "codemirror_mode": {
    "name": "ipython",
    "version": 3
   },
   "file_extension": ".py",
   "mimetype": "text/x-python",
   "name": "python",
   "nbconvert_exporter": "python",
   "pygments_lexer": "ipython3",
   "version": "3.10.0"
  }
 },
 "nbformat": 4,
 "nbformat_minor": 5
}
